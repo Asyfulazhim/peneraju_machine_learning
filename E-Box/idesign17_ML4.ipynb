{
 "cells": [
  {
   "cell_type": "markdown",
   "metadata": {},
   "source": [
    "Visualization for Numeric Features\n",
    "\n",
    " - Plot Histogram for all numeric features\n",
    "\n",
    " - Plot KDE plot for all numeric features\n",
    "\n",
    " - Plot Rug Plot for all numeric features\n",
    "\n",
    " - Plot Box Plot for all numeric features\n",
    "\n",
    " - Plot Violin Plot for all numeric features\n",
    "\n",
    " - Plot Strip Plot for all numeric features"
   ]
  },
  {
   "cell_type": "code",
   "execution_count": 2,
   "metadata": {},
   "outputs": [],
   "source": [
    "import pandas as pd\n",
    "import matplotlib.pyplot as plt  \n",
    "import seaborn as sns\n",
    "import warnings\n",
    "warnings.simplefilter('ignore')"
   ]
  },
  {
   "cell_type": "code",
   "execution_count": 3,
   "metadata": {},
   "outputs": [
    {
     "data": {
      "text/html": [
       "<div>\n",
       "<style scoped>\n",
       "    .dataframe tbody tr th:only-of-type {\n",
       "        vertical-align: middle;\n",
       "    }\n",
       "\n",
       "    .dataframe tbody tr th {\n",
       "        vertical-align: top;\n",
       "    }\n",
       "\n",
       "    .dataframe thead th {\n",
       "        text-align: right;\n",
       "    }\n",
       "</style>\n",
       "<table border=\"1\" class=\"dataframe\">\n",
       "  <thead>\n",
       "    <tr style=\"text-align: right;\">\n",
       "      <th></th>\n",
       "      <th>make</th>\n",
       "      <th>model</th>\n",
       "      <th>year</th>\n",
       "      <th>selling_price</th>\n",
       "      <th>km_driven</th>\n",
       "      <th>fuel</th>\n",
       "      <th>seller_type</th>\n",
       "      <th>transmission</th>\n",
       "      <th>owner</th>\n",
       "      <th>mileage_kmpl</th>\n",
       "      <th>engine_cc</th>\n",
       "      <th>max_power_bhp</th>\n",
       "      <th>seats</th>\n",
       "    </tr>\n",
       "  </thead>\n",
       "  <tbody>\n",
       "    <tr>\n",
       "      <th>0</th>\n",
       "      <td>Maruti</td>\n",
       "      <td>Swift Dzire VDI</td>\n",
       "      <td>2014</td>\n",
       "      <td>450000</td>\n",
       "      <td>145500</td>\n",
       "      <td>Diesel</td>\n",
       "      <td>Individual</td>\n",
       "      <td>Manual</td>\n",
       "      <td>First Owner</td>\n",
       "      <td>23.40</td>\n",
       "      <td>1248.0</td>\n",
       "      <td>74.00</td>\n",
       "      <td>5.0</td>\n",
       "    </tr>\n",
       "    <tr>\n",
       "      <th>1</th>\n",
       "      <td>Skoda</td>\n",
       "      <td>Rapid 1.5 TDI Ambition</td>\n",
       "      <td>2014</td>\n",
       "      <td>370000</td>\n",
       "      <td>120000</td>\n",
       "      <td>Diesel</td>\n",
       "      <td>Individual</td>\n",
       "      <td>Manual</td>\n",
       "      <td>Second Owner</td>\n",
       "      <td>21.14</td>\n",
       "      <td>1498.0</td>\n",
       "      <td>103.52</td>\n",
       "      <td>5.0</td>\n",
       "    </tr>\n",
       "    <tr>\n",
       "      <th>2</th>\n",
       "      <td>Honda</td>\n",
       "      <td>City 2017-2020 EXi</td>\n",
       "      <td>2006</td>\n",
       "      <td>158000</td>\n",
       "      <td>140000</td>\n",
       "      <td>Petrol</td>\n",
       "      <td>Individual</td>\n",
       "      <td>Manual</td>\n",
       "      <td>Third Owner</td>\n",
       "      <td>17.70</td>\n",
       "      <td>1497.0</td>\n",
       "      <td>78.00</td>\n",
       "      <td>5.0</td>\n",
       "    </tr>\n",
       "    <tr>\n",
       "      <th>3</th>\n",
       "      <td>Hyundai</td>\n",
       "      <td>i20 Sportz Diesel</td>\n",
       "      <td>2010</td>\n",
       "      <td>225000</td>\n",
       "      <td>127000</td>\n",
       "      <td>Diesel</td>\n",
       "      <td>Individual</td>\n",
       "      <td>Manual</td>\n",
       "      <td>First Owner</td>\n",
       "      <td>23.00</td>\n",
       "      <td>1396.0</td>\n",
       "      <td>90.00</td>\n",
       "      <td>5.0</td>\n",
       "    </tr>\n",
       "    <tr>\n",
       "      <th>4</th>\n",
       "      <td>Maruti</td>\n",
       "      <td>Swift VXI BSIII</td>\n",
       "      <td>2007</td>\n",
       "      <td>130000</td>\n",
       "      <td>120000</td>\n",
       "      <td>Petrol</td>\n",
       "      <td>Individual</td>\n",
       "      <td>Manual</td>\n",
       "      <td>First Owner</td>\n",
       "      <td>16.10</td>\n",
       "      <td>1298.0</td>\n",
       "      <td>88.20</td>\n",
       "      <td>5.0</td>\n",
       "    </tr>\n",
       "    <tr>\n",
       "      <th>...</th>\n",
       "      <td>...</td>\n",
       "      <td>...</td>\n",
       "      <td>...</td>\n",
       "      <td>...</td>\n",
       "      <td>...</td>\n",
       "      <td>...</td>\n",
       "      <td>...</td>\n",
       "      <td>...</td>\n",
       "      <td>...</td>\n",
       "      <td>...</td>\n",
       "      <td>...</td>\n",
       "      <td>...</td>\n",
       "      <td>...</td>\n",
       "    </tr>\n",
       "    <tr>\n",
       "      <th>95</th>\n",
       "      <td>Hyundai</td>\n",
       "      <td>i20 Asta Optional with Sunroof 1.2</td>\n",
       "      <td>2013</td>\n",
       "      <td>525000</td>\n",
       "      <td>61500</td>\n",
       "      <td>Petrol</td>\n",
       "      <td>Dealer</td>\n",
       "      <td>Manual</td>\n",
       "      <td>First Owner</td>\n",
       "      <td>18.50</td>\n",
       "      <td>1197.0</td>\n",
       "      <td>82.85</td>\n",
       "      <td>5.0</td>\n",
       "    </tr>\n",
       "    <tr>\n",
       "      <th>96</th>\n",
       "      <td>Maruti</td>\n",
       "      <td>Swift Dzire LDI</td>\n",
       "      <td>2016</td>\n",
       "      <td>600000</td>\n",
       "      <td>150000</td>\n",
       "      <td>Diesel</td>\n",
       "      <td>Individual</td>\n",
       "      <td>Manual</td>\n",
       "      <td>First Owner</td>\n",
       "      <td>26.59</td>\n",
       "      <td>1248.0</td>\n",
       "      <td>74.00</td>\n",
       "      <td>5.0</td>\n",
       "    </tr>\n",
       "    <tr>\n",
       "      <th>97</th>\n",
       "      <td>Hyundai</td>\n",
       "      <td>Xcent 1.2 Kappa SX Option AT</td>\n",
       "      <td>2016</td>\n",
       "      <td>565000</td>\n",
       "      <td>72000</td>\n",
       "      <td>Petrol</td>\n",
       "      <td>Dealer</td>\n",
       "      <td>Automatic</td>\n",
       "      <td>First Owner</td>\n",
       "      <td>19.10</td>\n",
       "      <td>1197.0</td>\n",
       "      <td>82.00</td>\n",
       "      <td>5.0</td>\n",
       "    </tr>\n",
       "    <tr>\n",
       "      <th>98</th>\n",
       "      <td>Maruti</td>\n",
       "      <td>Alto LX BSIII</td>\n",
       "      <td>2008</td>\n",
       "      <td>120000</td>\n",
       "      <td>68000</td>\n",
       "      <td>Petrol</td>\n",
       "      <td>Dealer</td>\n",
       "      <td>Manual</td>\n",
       "      <td>Third Owner</td>\n",
       "      <td>19.70</td>\n",
       "      <td>796.0</td>\n",
       "      <td>46.30</td>\n",
       "      <td>5.0</td>\n",
       "    </tr>\n",
       "    <tr>\n",
       "      <th>99</th>\n",
       "      <td>Hyundai</td>\n",
       "      <td>i20 1.4 Asta Option</td>\n",
       "      <td>2017</td>\n",
       "      <td>725000</td>\n",
       "      <td>110000</td>\n",
       "      <td>Diesel</td>\n",
       "      <td>Individual</td>\n",
       "      <td>Manual</td>\n",
       "      <td>First Owner</td>\n",
       "      <td>22.54</td>\n",
       "      <td>1396.0</td>\n",
       "      <td>88.73</td>\n",
       "      <td>5.0</td>\n",
       "    </tr>\n",
       "  </tbody>\n",
       "</table>\n",
       "<p>100 rows × 13 columns</p>\n",
       "</div>"
      ],
      "text/plain": [
       "       make                               model  year  selling_price  \\\n",
       "0    Maruti                     Swift Dzire VDI  2014         450000   \n",
       "1     Skoda              Rapid 1.5 TDI Ambition  2014         370000   \n",
       "2     Honda                  City 2017-2020 EXi  2006         158000   \n",
       "3   Hyundai                   i20 Sportz Diesel  2010         225000   \n",
       "4    Maruti                     Swift VXI BSIII  2007         130000   \n",
       "..      ...                                 ...   ...            ...   \n",
       "95  Hyundai  i20 Asta Optional with Sunroof 1.2  2013         525000   \n",
       "96   Maruti                     Swift Dzire LDI  2016         600000   \n",
       "97  Hyundai        Xcent 1.2 Kappa SX Option AT  2016         565000   \n",
       "98   Maruti                       Alto LX BSIII  2008         120000   \n",
       "99  Hyundai                 i20 1.4 Asta Option  2017         725000   \n",
       "\n",
       "    km_driven    fuel seller_type transmission         owner  mileage_kmpl  \\\n",
       "0      145500  Diesel  Individual       Manual   First Owner         23.40   \n",
       "1      120000  Diesel  Individual       Manual  Second Owner         21.14   \n",
       "2      140000  Petrol  Individual       Manual   Third Owner         17.70   \n",
       "3      127000  Diesel  Individual       Manual   First Owner         23.00   \n",
       "4      120000  Petrol  Individual       Manual   First Owner         16.10   \n",
       "..        ...     ...         ...          ...           ...           ...   \n",
       "95      61500  Petrol      Dealer       Manual   First Owner         18.50   \n",
       "96     150000  Diesel  Individual       Manual   First Owner         26.59   \n",
       "97      72000  Petrol      Dealer    Automatic   First Owner         19.10   \n",
       "98      68000  Petrol      Dealer       Manual   Third Owner         19.70   \n",
       "99     110000  Diesel  Individual       Manual   First Owner         22.54   \n",
       "\n",
       "    engine_cc  max_power_bhp  seats  \n",
       "0      1248.0          74.00    5.0  \n",
       "1      1498.0         103.52    5.0  \n",
       "2      1497.0          78.00    5.0  \n",
       "3      1396.0          90.00    5.0  \n",
       "4      1298.0          88.20    5.0  \n",
       "..        ...            ...    ...  \n",
       "95     1197.0          82.85    5.0  \n",
       "96     1248.0          74.00    5.0  \n",
       "97     1197.0          82.00    5.0  \n",
       "98      796.0          46.30    5.0  \n",
       "99     1396.0          88.73    5.0  \n",
       "\n",
       "[100 rows x 13 columns]"
      ]
     },
     "execution_count": 3,
     "metadata": {},
     "output_type": "execute_result"
    }
   ],
   "source": [
    "#Load the dataset\n",
    "data = pd.read_csv(\"vehicle_data_1.csv\")\n",
    "data"
   ]
  },
  {
   "cell_type": "code",
   "execution_count": 4,
   "metadata": {},
   "outputs": [
    {
     "name": "stdout",
     "output_type": "stream",
     "text": [
      "DF Shape\n",
      "(100, 13)\n"
     ]
    }
   ],
   "source": [
    "print(\"DF Shape\")\n",
    "print(data.shape)"
   ]
  },
  {
   "cell_type": "code",
   "execution_count": 5,
   "metadata": {},
   "outputs": [
    {
     "name": "stdout",
     "output_type": "stream",
     "text": [
      "DF Column Types\n",
      "<class 'pandas.core.frame.DataFrame'>\n",
      "RangeIndex: 100 entries, 0 to 99\n",
      "Data columns (total 13 columns):\n",
      " #   Column         Non-Null Count  Dtype  \n",
      "---  ------         --------------  -----  \n",
      " 0   make           100 non-null    object \n",
      " 1   model          100 non-null    object \n",
      " 2   year           100 non-null    int64  \n",
      " 3   selling_price  100 non-null    int64  \n",
      " 4   km_driven      100 non-null    int64  \n",
      " 5   fuel           100 non-null    object \n",
      " 6   seller_type    100 non-null    object \n",
      " 7   transmission   100 non-null    object \n",
      " 8   owner          100 non-null    object \n",
      " 9   mileage_kmpl   96 non-null     float64\n",
      " 10  engine_cc      96 non-null     float64\n",
      " 11  max_power_bhp  96 non-null     float64\n",
      " 12  seats          96 non-null     float64\n",
      "dtypes: float64(4), int64(3), object(6)\n",
      "memory usage: 10.3+ KB\n",
      "None\n"
     ]
    }
   ],
   "source": [
    "print(\"DF Column Types\")\n",
    "print(data.info())"
   ]
  },
  {
   "cell_type": "code",
   "execution_count": 6,
   "metadata": {},
   "outputs": [
    {
     "name": "stdout",
     "output_type": "stream",
     "text": [
      "Top 5 rows\n",
      "      make                   model  year  selling_price  km_driven    fuel  \\\n",
      "0   Maruti         Swift Dzire VDI  2014         450000     145500  Diesel   \n",
      "1    Skoda  Rapid 1.5 TDI Ambition  2014         370000     120000  Diesel   \n",
      "2    Honda      City 2017-2020 EXi  2006         158000     140000  Petrol   \n",
      "3  Hyundai       i20 Sportz Diesel  2010         225000     127000  Diesel   \n",
      "4   Maruti         Swift VXI BSIII  2007         130000     120000  Petrol   \n",
      "\n",
      "  seller_type transmission         owner  mileage_kmpl  engine_cc  \\\n",
      "0  Individual       Manual   First Owner         23.40     1248.0   \n",
      "1  Individual       Manual  Second Owner         21.14     1498.0   \n",
      "2  Individual       Manual   Third Owner         17.70     1497.0   \n",
      "3  Individual       Manual   First Owner         23.00     1396.0   \n",
      "4  Individual       Manual   First Owner         16.10     1298.0   \n",
      "\n",
      "   max_power_bhp  seats  \n",
      "0          74.00    5.0  \n",
      "1         103.52    5.0  \n",
      "2          78.00    5.0  \n",
      "3          90.00    5.0  \n",
      "4          88.20    5.0  \n"
     ]
    }
   ],
   "source": [
    "print(\"Top 5 rows\")\n",
    "print(data.head())"
   ]
  },
  {
   "cell_type": "code",
   "execution_count": 7,
   "metadata": {},
   "outputs": [
    {
     "data": {
      "text/html": [
       "<div>\n",
       "<style scoped>\n",
       "    .dataframe tbody tr th:only-of-type {\n",
       "        vertical-align: middle;\n",
       "    }\n",
       "\n",
       "    .dataframe tbody tr th {\n",
       "        vertical-align: top;\n",
       "    }\n",
       "\n",
       "    .dataframe thead th {\n",
       "        text-align: right;\n",
       "    }\n",
       "</style>\n",
       "<table border=\"1\" class=\"dataframe\">\n",
       "  <thead>\n",
       "    <tr style=\"text-align: right;\">\n",
       "      <th></th>\n",
       "      <th>year</th>\n",
       "      <th>selling_price</th>\n",
       "      <th>km_driven</th>\n",
       "      <th>mileage_kmpl</th>\n",
       "      <th>engine_cc</th>\n",
       "      <th>max_power_bhp</th>\n",
       "      <th>seats</th>\n",
       "    </tr>\n",
       "  </thead>\n",
       "  <tbody>\n",
       "    <tr>\n",
       "      <th>0</th>\n",
       "      <td>2014</td>\n",
       "      <td>450000</td>\n",
       "      <td>145500</td>\n",
       "      <td>23.40</td>\n",
       "      <td>1248.0</td>\n",
       "      <td>74.00</td>\n",
       "      <td>5.0</td>\n",
       "    </tr>\n",
       "    <tr>\n",
       "      <th>1</th>\n",
       "      <td>2014</td>\n",
       "      <td>370000</td>\n",
       "      <td>120000</td>\n",
       "      <td>21.14</td>\n",
       "      <td>1498.0</td>\n",
       "      <td>103.52</td>\n",
       "      <td>5.0</td>\n",
       "    </tr>\n",
       "    <tr>\n",
       "      <th>2</th>\n",
       "      <td>2006</td>\n",
       "      <td>158000</td>\n",
       "      <td>140000</td>\n",
       "      <td>17.70</td>\n",
       "      <td>1497.0</td>\n",
       "      <td>78.00</td>\n",
       "      <td>5.0</td>\n",
       "    </tr>\n",
       "    <tr>\n",
       "      <th>3</th>\n",
       "      <td>2010</td>\n",
       "      <td>225000</td>\n",
       "      <td>127000</td>\n",
       "      <td>23.00</td>\n",
       "      <td>1396.0</td>\n",
       "      <td>90.00</td>\n",
       "      <td>5.0</td>\n",
       "    </tr>\n",
       "    <tr>\n",
       "      <th>4</th>\n",
       "      <td>2007</td>\n",
       "      <td>130000</td>\n",
       "      <td>120000</td>\n",
       "      <td>16.10</td>\n",
       "      <td>1298.0</td>\n",
       "      <td>88.20</td>\n",
       "      <td>5.0</td>\n",
       "    </tr>\n",
       "    <tr>\n",
       "      <th>...</th>\n",
       "      <td>...</td>\n",
       "      <td>...</td>\n",
       "      <td>...</td>\n",
       "      <td>...</td>\n",
       "      <td>...</td>\n",
       "      <td>...</td>\n",
       "      <td>...</td>\n",
       "    </tr>\n",
       "    <tr>\n",
       "      <th>95</th>\n",
       "      <td>2013</td>\n",
       "      <td>525000</td>\n",
       "      <td>61500</td>\n",
       "      <td>18.50</td>\n",
       "      <td>1197.0</td>\n",
       "      <td>82.85</td>\n",
       "      <td>5.0</td>\n",
       "    </tr>\n",
       "    <tr>\n",
       "      <th>96</th>\n",
       "      <td>2016</td>\n",
       "      <td>600000</td>\n",
       "      <td>150000</td>\n",
       "      <td>26.59</td>\n",
       "      <td>1248.0</td>\n",
       "      <td>74.00</td>\n",
       "      <td>5.0</td>\n",
       "    </tr>\n",
       "    <tr>\n",
       "      <th>97</th>\n",
       "      <td>2016</td>\n",
       "      <td>565000</td>\n",
       "      <td>72000</td>\n",
       "      <td>19.10</td>\n",
       "      <td>1197.0</td>\n",
       "      <td>82.00</td>\n",
       "      <td>5.0</td>\n",
       "    </tr>\n",
       "    <tr>\n",
       "      <th>98</th>\n",
       "      <td>2008</td>\n",
       "      <td>120000</td>\n",
       "      <td>68000</td>\n",
       "      <td>19.70</td>\n",
       "      <td>796.0</td>\n",
       "      <td>46.30</td>\n",
       "      <td>5.0</td>\n",
       "    </tr>\n",
       "    <tr>\n",
       "      <th>99</th>\n",
       "      <td>2017</td>\n",
       "      <td>725000</td>\n",
       "      <td>110000</td>\n",
       "      <td>22.54</td>\n",
       "      <td>1396.0</td>\n",
       "      <td>88.73</td>\n",
       "      <td>5.0</td>\n",
       "    </tr>\n",
       "  </tbody>\n",
       "</table>\n",
       "<p>100 rows × 7 columns</p>\n",
       "</div>"
      ],
      "text/plain": [
       "    year  selling_price  km_driven  mileage_kmpl  engine_cc  max_power_bhp  \\\n",
       "0   2014         450000     145500         23.40     1248.0          74.00   \n",
       "1   2014         370000     120000         21.14     1498.0         103.52   \n",
       "2   2006         158000     140000         17.70     1497.0          78.00   \n",
       "3   2010         225000     127000         23.00     1396.0          90.00   \n",
       "4   2007         130000     120000         16.10     1298.0          88.20   \n",
       "..   ...            ...        ...           ...        ...            ...   \n",
       "95  2013         525000      61500         18.50     1197.0          82.85   \n",
       "96  2016         600000     150000         26.59     1248.0          74.00   \n",
       "97  2016         565000      72000         19.10     1197.0          82.00   \n",
       "98  2008         120000      68000         19.70      796.0          46.30   \n",
       "99  2017         725000     110000         22.54     1396.0          88.73   \n",
       "\n",
       "    seats  \n",
       "0     5.0  \n",
       "1     5.0  \n",
       "2     5.0  \n",
       "3     5.0  \n",
       "4     5.0  \n",
       "..    ...  \n",
       "95    5.0  \n",
       "96    5.0  \n",
       "97    5.0  \n",
       "98    5.0  \n",
       "99    5.0  \n",
       "\n",
       "[100 rows x 7 columns]"
      ]
     },
     "execution_count": 7,
     "metadata": {},
     "output_type": "execute_result"
    }
   ],
   "source": [
    "num_cols = data.select_dtypes(exclude='object')\n",
    "num_cols"
   ]
  },
  {
   "cell_type": "code",
   "execution_count": 8,
   "metadata": {},
   "outputs": [
    {
     "data": {
      "text/plain": [
       "0     2014\n",
       "1     2014\n",
       "2     2006\n",
       "3     2010\n",
       "4     2007\n",
       "      ... \n",
       "95    2013\n",
       "96    2016\n",
       "97    2016\n",
       "98    2008\n",
       "99    2017\n",
       "Name: year, Length: 100, dtype: int64"
      ]
     },
     "execution_count": 8,
     "metadata": {},
     "output_type": "execute_result"
    }
   ],
   "source": [
    "num_cols['year']"
   ]
  },
  {
   "cell_type": "code",
   "execution_count": 9,
   "metadata": {},
   "outputs": [
    {
     "data": {
      "text/plain": [
       "<Axes: xlabel='year', ylabel='Count'>"
      ]
     },
     "execution_count": 9,
     "metadata": {},
     "output_type": "execute_result"
    },
    {
     "data": {
      "image/png": "[encoded data removed]",
      "text/plain": [
       "<Figure size 600x600 with 4 Axes>"
      ]
     },
     "metadata": {},
     "output_type": "display_data"
    }
   ],
   "source": [
    "cols = 3\n",
    "rows = 3\n",
    "fig = plt.figure(figsize=(cols*2, rows*2))\n",
    "plt.suptitle(\"Histogram\")\n",
    "sns.histplot(x = num_cols['year'], ax = fig.add_subplot(2,2,1))\n",
    "sns.histplot(x = num_cols['year'], ax = fig.add_subplot(2,2,2))\n",
    "sns.histplot(x = num_cols['year'], ax = fig.add_subplot(2,2,3))\n",
    "sns.histplot(x = num_cols['year'], ax = fig.add_subplot(2,2,4))"
   ]
  },
  {
   "cell_type": "code",
   "execution_count": 10,
   "metadata": {},
   "outputs": [
    {
     "data": {
      "text/plain": [
       "<Figure size 1500x1500 with 0 Axes>"
      ]
     },
     "metadata": {},
     "output_type": "display_data"
    }
   ],
   "source": [
    "cols = 3\n",
    "rows = 3\n",
    "fig = plt.figure(figsize=(cols*5, rows*5))\n",
    "plt.subplots_adjust(hspace=0.5, wspace=0.5)"
   ]
  },
  {
   "cell_type": "code",
   "execution_count": 11,
   "metadata": {},
   "outputs": [
    {
     "data": {
      "text/plain": [
       "Index(['year', 'selling_price', 'km_driven', 'mileage_kmpl', 'engine_cc',\n",
       "       'max_power_bhp', 'seats'],\n",
       "      dtype='object')"
      ]
     },
     "execution_count": 11,
     "metadata": {},
     "output_type": "execute_result"
    }
   ],
   "source": [
    "num_cols.columns"
   ]
  },
  {
   "cell_type": "markdown",
   "metadata": {},
   "source": [
    "Step 4 : Plot  Histogram for all numeric features (Use sns.histplot())"
   ]
  },
  {
   "cell_type": "code",
   "execution_count": 20,
   "metadata": {},
   "outputs": [
    {
     "data": {
      "image/png": "[encoded data removed]",
      "text/plain": [
       "<Figure size 900x900 with 7 Axes>"
      ]
     },
     "metadata": {},
     "output_type": "display_data"
    }
   ],
   "source": [
    "cols = 3\n",
    "rows = 3\n",
    "fig = plt.figure(figsize=(cols*3, rows*3))\n",
    "plt.subplots_adjust(hspace=0.5, wspace=0.5)\n",
    "plt.suptitle(\"Histogram\")\n",
    "for i, col in enumerate(num_cols):\n",
    "    ax=fig.add_subplot(rows,cols,i+1)\n",
    "    sns.histplot(x = num_cols[col], ax = ax)\n",
    "plt.savefig(\"uahistogram.png\")"
   ]
  },
  {
   "cell_type": "markdown",
   "metadata": {},
   "source": [
    "Step 5 : Plot KDE plot for all numeric features (Use sns.kdeplot())"
   ]
  },
  {
   "cell_type": "code",
   "execution_count": 14,
   "metadata": {},
   "outputs": [
    {
     "data": {
      "text/plain": [
       "<Figure size 640x480 with 0 Axes>"
      ]
     },
     "metadata": {},
     "output_type": "display_data"
    }
   ],
   "source": []
  },
  {
   "cell_type": "markdown",
   "metadata": {},
   "source": [
    "Step 6 : Plot Rug Plot for all numeric features (Use sns.rugplot())"
   ]
  },
  {
   "cell_type": "code",
   "execution_count": null,
   "metadata": {},
   "outputs": [],
   "source": []
  },
  {
   "cell_type": "markdown",
   "metadata": {},
   "source": [
    "Step 7 : Plot Box Plot for all numeric features (Use sns.boxplot())"
   ]
  },
  {
   "cell_type": "code",
   "execution_count": null,
   "metadata": {},
   "outputs": [],
   "source": [
    "axs[0].boxplot(failed_bank_list['Fund'])\n"
   ]
  },
  {
   "cell_type": "markdown",
   "metadata": {},
   "source": [
    "#Step 8 : Plot Violin Plot for all numeric features (Use sns.violinplot())\n",
    "#(Set title as \"Violin Plot\" .Save in file uaviolinplot.png)"
   ]
  },
  {
   "cell_type": "code",
   "execution_count": null,
   "metadata": {},
   "outputs": [],
   "source": [
    "axs[1].violinplot(failed_bank_list['Fund'])     "
   ]
  },
  {
   "cell_type": "markdown",
   "metadata": {},
   "source": [
    "Step 9 : Plot Strip Plot for all numeric features (Use sns.stripplot())\n",
    "\n",
    "(Set title as \"Strip Plot\" .Save in file uastripplot.png)"
   ]
  },
  {
   "cell_type": "code",
   "execution_count": null,
   "metadata": {},
   "outputs": [],
   "source": []
  },
  {
   "cell_type": "markdown",
   "metadata": {},
   "source": [
    "Step 10 : Plot Count Plot for all Categoric features (Use sns.countplot())\n",
    "\n",
    "Set title as \"Count Plot\" .Save in file uacountplot.png"
   ]
  },
  {
   "cell_type": "code",
   "execution_count": null,
   "metadata": {},
   "outputs": [],
   "source": []
  },
  {
   "cell_type": "markdown",
   "metadata": {},
   "source": [
    "Step 11 : Plot Pie Charts for all Categoric features (Use plt.pie()) "
   ]
  },
  {
   "cell_type": "code",
   "execution_count": null,
   "metadata": {},
   "outputs": [],
   "source": [
    "plt.suptitle(\"Pie Chart\")\n",
    "for i, col in enumerate(cat_cols):\n",
    "\tdf = data[col].value_counts()\n",
    "\tax = fig.add_subplot(rows, cols, i+1)\n",
    "\tplt.pie(df, labels=df.index, autopct=\"%.0f%%\")\n",
    "plt.savefig(\"uapiechart.png\")\n",
    "plt.clf()"
   ]
  }
 ],
 "metadata": {
  "kernelspec": {
   "display_name": "Python 3",
   "language": "python",
   "name": "python3"
  },
  "language_info": {
   "codemirror_mode": {
    "name": "ipython",
    "version": 3
   },
   "file_extension": ".py",
   "mimetype": "text/x-python",
   "name": "python",
   "nbconvert_exporter": "python",
   "pygments_lexer": "ipython3",
   "version": "3.12.3"
  }
 },
 "nbformat": 4,
 "nbformat_minor": 2
}
